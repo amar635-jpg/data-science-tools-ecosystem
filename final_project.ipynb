{
 "cells": [
  {
   "cell_type": "markdown",
   "metadata": {},
   "source": [
    "# My Final Project: Exploring Data Science Tools and Ecosystem\n",
    "This notebook serves as my final project, where I explore various data science tools and the ecosystem surrounding them."
   ]
  },
  {
   "cell_type": "markdown",
   "metadata": {},
   "source": [
    "## Objectives:\n",
    "- Utilize Markdown with different heading styles.\n",
    "- List popular data science languages.\n",
    "- List commonly used data science libraries.\n",
    "- Summarize popular data science tools.\n",
    "- Demonstrate arithmetic expressions in Python."
   ]
  },
  {
   "cell_type": "markdown",
   "metadata": {},
   "source": [
    "## Popular Data Science Languages:\n",
    "- Python\n",
    "- R\n",
    "- SQL\n",
    "- Julia\n",
    "- JavaScript"
   ]
  },
  {
   "cell_type": "markdown",
   "metadata": {},
   "source": [
    "## Popular Data Science Libraries:\n",
    "- Pandas\n",
    "- NumPy\n",
    "- Matplotlib\n",
    "- Seaborn\n",
    "- Scikit-learn"
   ]
  },
  {
   "cell_type": "markdown",
   "metadata": {},
   "source": [
    "## Popular Data Science Tools:\n",
    "| Tool       | Description                              |\n",
    "|------------|------------------------------------------|\n",
    "| VS Code    | Integrated development environment (IDE) |\n",
    "| JupyterLab | Interactive computing environment        |\n",
    "| RStudio    | IDE for R programming                     |"
   ]
  },
  {
   "cell_type": "code",
   "execution_count": null,
   "metadata": {},
   "outputs": [],
   "source": [
    "# Arithmetic Expressions in Python:\n",
    "# Multiplication and Addition\n",
    "result_multiply = (3 * 4) + 5\n",
    "print(\"Result of multiplication then addition:\", result_multiply)\n",
    "\n",
    "# Conversion of Minutes to Hours\n",
    "total_minutes = 200\n",
    "minutes_in_an_hour = 60\n",
    "hours = total_minutes / minutes_in_an_hour\n",
    "print(\"Conversion of 200 minutes to hours:\", hours)"
   ]
  },
  {
   "cell_type": "markdown",
   "metadata": {},
   "source": [
    "## Author:\n",
    "- [Your Name]"
   ]
  }
 ],
 "metadata": {
  "kernelspec": {
   "display_name": "Python 3",
   "language": "python",
   "name": "python3"
  },
  "language_info": {
   "codemirror_mode": {
    "name": "ipython",
    "version": 3
   },
   "file_extension": ".py",
   "mimetype": "text/x-python",
   "name": "python",
   "nbconvert_exporter": "python",
   "pygments_lexer": "ipython3",
   "version": "3.7.11"
  }
 },
 "nbformat": 4,
 "nbformat_minor": 5
}
